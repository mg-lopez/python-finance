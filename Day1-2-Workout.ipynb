{
 "cells": [
  {
   "cell_type": "markdown",
   "id": "16631e47-9b65-403e-8550-a00a9eb139af",
   "metadata": {},
   "source": [
    "## Flow Control"
   ]
  },
  {
   "cell_type": "markdown",
   "id": "d4161407-bd06-4561-ace5-aeaf314b1f3d",
   "metadata": {},
   "source": [
    "### Boolean Varialbe"
   ]
  },
  {
   "cell_type": "code",
   "execution_count": null,
   "id": "5c865d2f-2817-4f0e-88c8-e597ad9968b1",
   "metadata": {},
   "outputs": [],
   "source": []
  },
  {
   "cell_type": "markdown",
   "id": "5edb6ef4-7907-475a-b89e-d3e462c20c5d",
   "metadata": {},
   "source": [
    "### not, and, or"
   ]
  },
  {
   "cell_type": "code",
   "execution_count": null,
   "id": "843ca216-a53f-48d6-a939-752af7b3f7df",
   "metadata": {},
   "outputs": [],
   "source": []
  },
  {
   "cell_type": "markdown",
   "id": "dfaf526a-e78b-4a1b-a7df-4e55919de6d6",
   "metadata": {},
   "source": [
    "### if...else..."
   ]
  },
  {
   "cell_type": "code",
   "execution_count": null,
   "id": "a25beb09-2192-4fc7-8a93-58b4012b87ed",
   "metadata": {},
   "outputs": [],
   "source": []
  },
  {
   "cell_type": "markdown",
   "id": "dbcedd0a-0963-4bff-a788-c89bd18f7af6",
   "metadata": {},
   "source": [
    "### For Loop Basics"
   ]
  },
  {
   "cell_type": "code",
   "execution_count": null,
   "id": "a5ab70cb-377d-492a-8083-bda8777f3171",
   "metadata": {},
   "outputs": [],
   "source": []
  },
  {
   "cell_type": "markdown",
   "id": "b155718d-4cfb-42d6-8c2a-7cde6f06d4be",
   "metadata": {},
   "source": [
    "### While Loop Basics"
   ]
  },
  {
   "cell_type": "code",
   "execution_count": null,
   "id": "8f66adec-a040-4070-93d8-cc02a162fa4b",
   "metadata": {},
   "outputs": [],
   "source": []
  },
  {
   "cell_type": "markdown",
   "id": "1ef85ccb-73e1-4fab-8992-e154c0636652",
   "metadata": {},
   "source": [
    "### Load Data from String"
   ]
  },
  {
   "cell_type": "code",
   "execution_count": 1,
   "id": "b29d02a2-01f5-46cd-b725-2383d4ea1d33",
   "metadata": {},
   "outputs": [],
   "source": [
    "from datetime import datetime"
   ]
  },
  {
   "cell_type": "code",
   "execution_count": 2,
   "id": "7e1dc218-e965-4a97-af1d-9780348c1f75",
   "metadata": {},
   "outputs": [],
   "source": [
    "data_str = \"\"\"\n",
    "Date, Open, High, Low, Close\n",
    "2024-10-01, 100, 102, 98, 101\n",
    "2024-10-02, 100.5, 102.5, 99, 102\n",
    "2024-10-03, 101, 103, 100, 102.5\n",
    "\"\"\""
   ]
  },
  {
   "cell_type": "code",
   "execution_count": null,
   "id": "57f60e2c-2b3d-441d-8562-4ef4c4632e6b",
   "metadata": {},
   "outputs": [],
   "source": []
  },
  {
   "cell_type": "code",
   "execution_count": null,
   "id": "aedadd03-8219-4d3a-8123-ddbb35d2003d",
   "metadata": {},
   "outputs": [],
   "source": []
  },
  {
   "cell_type": "markdown",
   "id": "50f4e1ff-ed96-402c-b32c-f3cfc5a18f44",
   "metadata": {},
   "source": [
    "### Ex5 Find the Highest High Date given the Data String for GBP/USD"
   ]
  },
  {
   "cell_type": "code",
   "execution_count": 3,
   "id": "c1cfee16-f5c8-4f10-ab77-980be6023459",
   "metadata": {},
   "outputs": [],
   "source": [
    "data_str = \"\"\"\n",
    "Date, Open, High, Low, Close\n",
    "2024-01-01, 1.273, 1.277, 1.2612, 1.2684\n",
    "2024-01-08, 1.2717, 1.2785, 1.2675, 1.2778\n",
    "2024-01-15, 1.2736, 1.274, 1.2597, 1.271\n",
    "2024-01-22, 1.2701, 1.2774, 1.2655, 1.2708\n",
    "2024-01-29, 1.2697, 1.2773, 1.2624, 1.2747\n",
    "2024-02-05, 1.2617, 1.2642, 1.252, 1.2621\n",
    "2024-02-12, 1.2639, 1.2683, 1.2537, 1.2599\n",
    "2024-02-19, 1.2611, 1.271, 1.258, 1.2664\n",
    "2024-02-26, 1.2671, 1.27, 1.2601, 1.2625\n",
    "2024-03-04, 1.2661, 1.2891, 1.2657, 1.2816\n",
    "2024-03-11, 1.2856, 1.2862, 1.2731, 1.2746\n",
    "2024-03-18, 1.2732, 1.2804, 1.2577, 1.2662\n",
    "2024-03-25, 1.2598, 1.2668, 1.2587, 1.2626\n",
    "2024-03-31, 1.2638, 1.2682, 1.2541, 1.264\n",
    "2024-04-07, 1.2626, 1.2709, 1.2429, 1.2555\n",
    "2024-04-14, 1.246, 1.2498, 1.2392, 1.2438\n",
    "2024-04-21, 1.2376, 1.2542, 1.2301, 1.2509\n",
    "2024-04-28, 1.2511, 1.2629, 1.2468, 1.2541\n",
    "2024-05-05, 1.2541, 1.2594, 1.2449, 1.2526\n",
    "2024-05-12, 1.2523, 1.2709, 1.2512, 1.2672\n",
    "2024-05-19, 1.2708, 1.2761, 1.2683, 1.2694\n",
    "2024-05-26, 1.2734, 1.28, 1.2682, 1.273\n",
    "2024-06-02, 1.2744, 1.2817, 1.2696, 1.2793\n",
    "2024-06-09, 1.2729, 1.286, 1.2658, 1.2755\n",
    "2024-06-16, 1.2684, 1.274, 1.2626, 1.266\n",
    "2024-06-23, 1.264, 1.2702, 1.2614, 1.2646\n",
    "2024-06-30, 1.265, 1.2814, 1.2616, 1.2756\n",
    "2024-07-07, 1.2807, 1.2992, 1.2779, 1.2924\n",
    "2024-07-14, 1.2968, 1.3045, 1.2902, 1.2952\n",
    "2024-07-21, 1.2932, 1.2941, 1.285, 1.2857\n",
    "2024-07-28, 1.2867, 1.2888, 1.2709, 1.2729\n",
    "2024-08-04, 1.2788, 1.2816, 1.2666, 1.2747\n",
    "2024-08-11, 1.275, 1.2915, 1.2749, 1.2859\n",
    "2024-08-18, 1.2948, 1.323, 1.2942, 1.3098\n",
    "2024-08-25, 1.3215, 1.3263, 1.3126, 1.3166\n",
    "2024-09-01, 1.3131, 1.3234, 1.309, 1.3177\n",
    "2024-09-08, 1.3132, 1.3157, 1.3003, 1.3132\n",
    "2024-09-15, 1.3136, 1.3341, 1.3136, 1.3282\n",
    "2024-09-22, 1.3313, 1.3433, 1.3251, 1.3414\n",
    "2024-09-29, 1.3383, 1.3425, 1.3073, 1.313\n",
    "2024-10-06, 1.3086, 1.3114, 1.3058, 1.3091\n",
    "\"\"\""
   ]
  },
  {
   "cell_type": "code",
   "execution_count": null,
   "id": "6da10943-674d-4723-94ec-1fdce3dc7b70",
   "metadata": {},
   "outputs": [],
   "source": []
  },
  {
   "cell_type": "markdown",
   "id": "fce8f82f-24ee-403d-ba77-de8b48dcffa2",
   "metadata": {},
   "source": [
    "### Load File"
   ]
  },
  {
   "cell_type": "code",
   "execution_count": null,
   "id": "88cd8b7b-6c58-48d4-b8b7-7f17d6bac11e",
   "metadata": {},
   "outputs": [],
   "source": []
  },
  {
   "cell_type": "markdown",
   "id": "bb8604a1-e32f-4ea5-a62a-4f7988547c24",
   "metadata": {},
   "source": [
    "### Calculate 10 Days Moving Average"
   ]
  },
  {
   "cell_type": "code",
   "execution_count": null,
   "id": "37bac2b6-0bf0-4c36-8d1a-c2888d1e1818",
   "metadata": {},
   "outputs": [],
   "source": []
  },
  {
   "cell_type": "markdown",
   "id": "36237592-a223-4834-8bae-8244ad35a4ea",
   "metadata": {},
   "source": [
    "## Custom Function\n",
    "- Local vs Global"
   ]
  },
  {
   "cell_type": "markdown",
   "id": "1bf3b406-9390-4e2e-ae8d-670d3a624a3a",
   "metadata": {},
   "source": [
    "### Function to Load Data File"
   ]
  },
  {
   "cell_type": "code",
   "execution_count": null,
   "id": "f07625ed-50ba-4511-b505-f2a4a7b7c0ec",
   "metadata": {},
   "outputs": [],
   "source": []
  },
  {
   "cell_type": "markdown",
   "id": "d32f7857-4b80-4e08-96cc-42e352bfdf61",
   "metadata": {},
   "source": [
    "### Ex6 Improve Load File Function to Return Date, Open, High, Low, Close as a dictionary"
   ]
  },
  {
   "cell_type": "code",
   "execution_count": 4,
   "id": "96a80830-2cad-4122-905e-c4fbc051516a",
   "metadata": {},
   "outputs": [
    {
     "name": "stdout",
     "output_type": "stream",
     "text": [
      "[datetime.datetime(2023, 10, 26, 0, 0), datetime.datetime(2023, 10, 30, 0, 0), datetime.datetime(2023, 10, 31, 0, 0), datetime.datetime(2023, 11, 1, 0, 0), datetime.datetime(2023, 11, 2, 0, 0)]\n",
      "[1.2137, 1.2114, 1.2166, 1.2152, 1.2182]\n"
     ]
    }
   ],
   "source": [
    "def load_price_file(file_name):\n",
    "    date_list = []\n",
    "    close_list = []\n",
    "    \n",
    "    with open(file_name) as file:\n",
    "        for line in file:\n",
    "            if '-' in line:\n",
    "                line_list = line.split(',')\n",
    "                dt = datetime.strptime(line_list[0], '%Y-%m-%d')\n",
    "                date_list.append(dt)\n",
    "                \n",
    "                c = float(line_list[4])\n",
    "                close_list.append(c)\n",
    "\n",
    "    return date_list, close_list\n",
    "\n",
    "\n",
    "date_list, close_list = load_price_file('GBPUSD.csv')\n",
    "print(date_list[:5])\n",
    "print(close_list[:5])"
   ]
  },
  {
   "cell_type": "code",
   "execution_count": null,
   "id": "132a86a6-86fc-4335-8a66-f0adc5a14595",
   "metadata": {},
   "outputs": [],
   "source": []
  },
  {
   "cell_type": "markdown",
   "id": "8daaec03-c59d-470b-b3db-15eb642a467d",
   "metadata": {},
   "source": [
    "### Ex7 Function of Exponential Moving Average (EMA)\n",
    "[EMA Calculation](https://www.investopedia.com/ask/answers/122314/what-exponential-moving-average-ema-formula-and-how-ema-calculated.asp)\n",
    "\n",
    "**def ema(close_list, n)**"
   ]
  },
  {
   "cell_type": "code",
   "execution_count": null,
   "id": "5bda319c-be4c-43bb-9fb9-f1aed19f108f",
   "metadata": {},
   "outputs": [],
   "source": []
  }
 ],
 "metadata": {
  "kernelspec": {
   "display_name": "Python 3 (ipykernel)",
   "language": "python",
   "name": "python3"
  },
  "language_info": {
   "codemirror_mode": {
    "name": "ipython",
    "version": 3
   },
   "file_extension": ".py",
   "mimetype": "text/x-python",
   "name": "python",
   "nbconvert_exporter": "python",
   "pygments_lexer": "ipython3",
   "version": "3.12.6"
  }
 },
 "nbformat": 4,
 "nbformat_minor": 5
}
