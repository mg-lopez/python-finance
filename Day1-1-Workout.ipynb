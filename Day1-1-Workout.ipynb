{
 "cells": [
  {
   "cell_type": "markdown",
   "id": "698beb3c-9d2e-4f18-8def-146f7f4b7d21",
   "metadata": {},
   "source": [
    "### Introduction to Jupyter\n",
    "- Ensure Python and Jupyter Installed\n",
    "- Launch Jupyter with Cmd or Terminal (MacOS)\n",
    "- Basics\n",
    "    - Create folder and notebook file\n",
    "    - Save file\n",
    "    - Two types of cell: Code and Markdown\n",
    "    - Run code using short cut\n",
    "    - Restart Kernel\n",
    "    - Add and remove cell (Esc to cell editing mode, A/B, DD)"
   ]
  },
  {
   "cell_type": "markdown",
   "id": "f6299133-7639-4c0b-856f-bd18cb9b2aa6",
   "metadata": {},
   "source": [
    "## Variables and Objects"
   ]
  },
  {
   "cell_type": "markdown",
   "id": "0dcc26a0-c06c-4985-8a8c-33c2c86010ca",
   "metadata": {},
   "source": [
    "#### Create News Headline\n",
    "e.g. 2024-10-08: FTSE (-1.08%)"
   ]
  },
  {
   "cell_type": "code",
   "execution_count": null,
   "id": "83795eb4-463a-4385-9b50-724e7406eec8",
   "metadata": {},
   "outputs": [],
   "source": []
  },
  {
   "cell_type": "markdown",
   "id": "a9f2170b-9a41-4780-b413-bafcce8e0e80",
   "metadata": {},
   "source": [
    "### f string\n",
    "- String strats with \"f\"\n",
    "- Use \"{}\" as placeholder for Python expressions"
   ]
  },
  {
   "cell_type": "code",
   "execution_count": null,
   "id": "65b0c020-08e5-46de-9d07-81037877cfd8",
   "metadata": {},
   "outputs": [],
   "source": []
  },
  {
   "cell_type": "markdown",
   "id": "02a5e8d0-97b7-454d-a0da-a2c86a882132",
   "metadata": {},
   "source": [
    "### Ex1 - Create a news headline as the following:\n",
    "2024-10-26: UK Inflation increased 0.07% to 3.09% in Augest"
   ]
  },
  {
   "cell_type": "code",
   "execution_count": 1,
   "id": "adbe7f7c-b7dc-495d-848d-68c5f3f2b4a4",
   "metadata": {},
   "outputs": [],
   "source": [
    "from datetime import date, datetime"
   ]
  },
  {
   "cell_type": "code",
   "execution_count": 2,
   "id": "af6147b9-eb0c-4b0c-a7a5-415ea5ea6e15",
   "metadata": {},
   "outputs": [],
   "source": [
    "dt = date.today()\n",
    "\n",
    "cpi_2407 = 132.9\n",
    "cpi_2408 = 133.4\n",
    "\n",
    "cpi_2307 = 129\n",
    "cpi_2308 = 129.4"
   ]
  },
  {
   "cell_type": "code",
   "execution_count": null,
   "id": "bef782f1-2c13-4503-a230-097fe22a7139",
   "metadata": {},
   "outputs": [],
   "source": []
  },
  {
   "cell_type": "markdown",
   "id": "b119b2d6-9be3-4130-8ff9-fe91f8a33b02",
   "metadata": {},
   "source": [
    "### Extract Data from String\n",
    "- Calculate the EBITDA growth from 2023 to 2024 for INVIDIA\n",
    "- Extract the date of the fiscal year end for 2024"
   ]
  },
  {
   "cell_type": "code",
   "execution_count": null,
   "id": "a8db4206-277e-4a6c-bdd2-8b693be70804",
   "metadata": {},
   "outputs": [],
   "source": [
    "data_str1 = 'NVIDIA, Year=2024-01-31, EBITDA=34,075,000'\n",
    "data_str2 = 'NVIDIA, Year=2023-01-31, EBITDA=4,443,000'"
   ]
  },
  {
   "cell_type": "code",
   "execution_count": null,
   "id": "81e06e27-01e1-4d31-bd11-6db8724da63b",
   "metadata": {},
   "outputs": [],
   "source": []
  },
  {
   "cell_type": "markdown",
   "id": "5f0a36e7-f5e3-4c5d-a861-b173b1333959",
   "metadata": {},
   "source": [
    "### Ex2 - Extract the information and calculate the last closing price of S&P500\n",
    "S&P 500 hits new all-time high 5,751 up by 0.9%"
   ]
  },
  {
   "cell_type": "code",
   "execution_count": 3,
   "id": "a0e9e9fe-5995-4bdc-8661-227d927af7d9",
   "metadata": {},
   "outputs": [],
   "source": [
    "news = 'S&P 500 hits new all-time high 5,751 up by 0.9%'"
   ]
  },
  {
   "cell_type": "code",
   "execution_count": null,
   "id": "7c686453-ff7e-44e2-aff5-f265f20fd4f3",
   "metadata": {},
   "outputs": [],
   "source": []
  },
  {
   "cell_type": "markdown",
   "id": "13b14206-0034-4579-b1da-5e97750f9d33",
   "metadata": {},
   "source": [
    "## Data Structure"
   ]
  },
  {
   "cell_type": "markdown",
   "id": "724d2611-3ffd-478f-8d79-36a347e6257f",
   "metadata": {},
   "source": [
    "### List Represents Data Table"
   ]
  },
  {
   "cell_type": "code",
   "execution_count": null,
   "id": "fb31acc4-51c8-4126-8601-1e019233d3ff",
   "metadata": {},
   "outputs": [],
   "source": []
  },
  {
   "cell_type": "markdown",
   "id": "a4d75e7b-f8b6-46e6-ad79-936ed78f34cb",
   "metadata": {},
   "source": [
    "### List Represents Data Series"
   ]
  },
  {
   "cell_type": "code",
   "execution_count": null,
   "id": "939c29c6-8677-4272-8edf-f0d3b4aa2793",
   "metadata": {},
   "outputs": [],
   "source": []
  },
  {
   "cell_type": "markdown",
   "id": "fcdaed8f-72af-4ebe-96d3-5feb5dee581d",
   "metadata": {},
   "source": [
    "### Access List"
   ]
  },
  {
   "cell_type": "code",
   "execution_count": null,
   "id": "8d7f420a-1462-400e-a20d-0044796da7f6",
   "metadata": {},
   "outputs": [],
   "source": []
  },
  {
   "cell_type": "markdown",
   "id": "5d8798a9-260f-4c05-b723-fb7d0cecb7ac",
   "metadata": {},
   "source": [
    "### Common Functions for List"
   ]
  },
  {
   "cell_type": "code",
   "execution_count": null,
   "id": "a7ff4337-8925-4a4a-bb17-8349fba98bab",
   "metadata": {},
   "outputs": [],
   "source": []
  },
  {
   "cell_type": "markdown",
   "id": "bf340f6f-2e0f-4eb5-be2a-dc634052d2bc",
   "metadata": {},
   "source": [
    "### Modify List"
   ]
  },
  {
   "cell_type": "code",
   "execution_count": null,
   "id": "133ecd4a-9e83-4fcd-93e2-2a511c10d399",
   "metadata": {},
   "outputs": [],
   "source": []
  },
  {
   "cell_type": "markdown",
   "id": "d04dd5e0-ad81-496b-991b-11971c7d7365",
   "metadata": {},
   "source": [
    "### Calculate Average Price for Last 3 Days"
   ]
  },
  {
   "cell_type": "code",
   "execution_count": null,
   "id": "29a0433a-08e3-471e-a79d-d6e6766fe217",
   "metadata": {},
   "outputs": [],
   "source": []
  },
  {
   "cell_type": "markdown",
   "id": "ef237329-9589-4beb-af34-73a5a6cb3aa4",
   "metadata": {},
   "source": [
    "### Ex3 - Find the Date for the Highest High and Lowest Low"
   ]
  },
  {
   "cell_type": "code",
   "execution_count": 4,
   "id": "95307889-6e9c-47e3-be90-3911a85f7ebc",
   "metadata": {},
   "outputs": [],
   "source": [
    "date_list = [date(2024, 10, 1), date(2024, 10, 2), date(2024, 10, 3)]\n",
    "open_list = [100, 101, 102]\n",
    "high_list = [103, 104, 105]\n",
    "low_list = [97, 98, 99]\n",
    "close_list = [101, 102, 103]"
   ]
  },
  {
   "cell_type": "code",
   "execution_count": null,
   "id": "d26354fe-78ab-454d-876b-fb65d9c19bf6",
   "metadata": {},
   "outputs": [],
   "source": []
  },
  {
   "cell_type": "markdown",
   "id": "48664494-c6ed-435d-af26-a36c97fc2c9e",
   "metadata": {},
   "source": [
    "### Dict Groups Information"
   ]
  },
  {
   "cell_type": "code",
   "execution_count": null,
   "id": "7771cc14-c20c-4439-b131-78dec7c96ee2",
   "metadata": {},
   "outputs": [],
   "source": []
  },
  {
   "cell_type": "markdown",
   "id": "40ec1f26-e436-4e4e-9c71-5a1ad1685ae3",
   "metadata": {},
   "source": [
    "### Dict Represents a Table\n",
    "|Date|Open|High|Low|Close|\n",
    "|-|-|-|-|-|\n",
    "|2024-10-01|100|103|97|101|\n",
    "|2024-10-02|101|104|98|102|"
   ]
  },
  {
   "cell_type": "code",
   "execution_count": null,
   "id": "e8571d89-2c0b-4e41-9167-e89f0a5e12c2",
   "metadata": {},
   "outputs": [],
   "source": []
  },
  {
   "cell_type": "markdown",
   "id": "9c99a726-abff-4bfc-a235-978e5011c45b",
   "metadata": {},
   "source": [
    "### Dict as Map"
   ]
  },
  {
   "cell_type": "code",
   "execution_count": null,
   "id": "2582358d-af10-4ec5-8745-0cae0780ccc1",
   "metadata": {},
   "outputs": [],
   "source": []
  },
  {
   "cell_type": "markdown",
   "id": "85f07d31-fa1c-449a-b0de-06c0b6bf48ea",
   "metadata": {},
   "source": [
    "### Access Dict"
   ]
  },
  {
   "cell_type": "code",
   "execution_count": null,
   "id": "aa09de63-ac48-4c9d-b5ae-8401a4c252f7",
   "metadata": {},
   "outputs": [],
   "source": []
  },
  {
   "cell_type": "markdown",
   "id": "31909c6b-a4b5-43a2-9e79-a6673ec95c43",
   "metadata": {},
   "source": [
    "### Modify Dict"
   ]
  },
  {
   "cell_type": "code",
   "execution_count": null,
   "id": "14d51cdf-dd50-466c-86c6-1872a3b11ecd",
   "metadata": {},
   "outputs": [],
   "source": []
  },
  {
   "cell_type": "markdown",
   "id": "6bc5c2c8-e929-40d1-a404-72da397ff249",
   "metadata": {},
   "source": [
    "### Ex4 - Calculate the Average Close for IBM and Vodafone"
   ]
  },
  {
   "cell_type": "code",
   "execution_count": 5,
   "id": "a55f1b52-f006-4cd4-b3d2-f16e3f06d2ff",
   "metadata": {},
   "outputs": [],
   "source": [
    "company_bars_dict = {\n",
    "    'IBM': {\n",
    "        'Date': [date(2024, 10, 1), date(2024, 10, 2), date(2024, 10, 3)],\n",
    "        'Open': [100, 101, 102],\n",
    "        'High': [103, 104, 105],\n",
    "        'Low': [97, 98, 99],\n",
    "        'Close': [101, 102, 103],\n",
    "    },\n",
    "\n",
    "    'VOD': {\n",
    "        'Date': [date(2024, 10, 1), date(2024, 10, 2), date(2024, 10, 3)],\n",
    "        'Open': [1.0, 1.1, 1.2],\n",
    "        'High': [1.3, 1.4, 1.5],\n",
    "        'Low': [0.7, 0.8, 0.9],\n",
    "        'Close': [1.1, 1.2, 1.3],\n",
    "    }\n",
    "}"
   ]
  },
  {
   "cell_type": "code",
   "execution_count": null,
   "id": "94cc5c24-2abc-4e40-ab33-7b23cfc081d1",
   "metadata": {},
   "outputs": [],
   "source": []
  }
 ],
 "metadata": {
  "kernelspec": {
   "display_name": "Python 3 (ipykernel)",
   "language": "python",
   "name": "python3"
  },
  "language_info": {
   "codemirror_mode": {
    "name": "ipython",
    "version": 3
   },
   "file_extension": ".py",
   "mimetype": "text/x-python",
   "name": "python",
   "nbconvert_exporter": "python",
   "pygments_lexer": "ipython3",
   "version": "3.12.6"
  }
 },
 "nbformat": 4,
 "nbformat_minor": 5
}
